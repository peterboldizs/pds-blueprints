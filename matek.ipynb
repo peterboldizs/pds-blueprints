{
 "cells": [
  {
   "cell_type": "markdown",
   "metadata": {
    "colab_type": "text",
    "id": "q5qRswFI-C8v"
   },
   "source": [
    "# Matematika gyakorlatok"
   ]
  },
  {
   "cell_type": "code",
   "execution_count": 1,
   "metadata": {
    "colab": {
     "base_uri": "https://localhost:8080/",
     "height": 34
    },
    "colab_type": "code",
    "id": "S2so8KmY-C8x",
    "outputId": "544dd79a-4907-4b99-db85-0c803abf719e"
   },
   "outputs": [
    {
     "name": "stdout",
     "output_type": "stream",
     "text": [
      "Ez egy Üdvözlet az első matek oldalon!\n"
     ]
    }
   ],
   "source": [
    "print(\"Ez egy Üdvözlet az első matek oldalon!\")"
   ]
  },
  {
   "cell_type": "markdown",
   "metadata": {
    "colab_type": "text",
    "id": "-xejX77b-C87"
   },
   "source": [
    "### Pitagorasz-tétel \n",
    "\n",
    "_Derékszögű háromszögek számításaira_\n",
    "* megadjuk a befogókat\n",
    "* kiszámítjuk az átfogót a képlet alapján\n",
    "\n",
    "$ c = \\sqrt{a^2 + b^2} $"
   ]
  },
  {
   "cell_type": "code",
   "execution_count": 2,
   "metadata": {
    "cocalc": {
     "outputs": {
      "0": {
       "name": "input",
       "opts": {
        "password": false,
        "prompt": "add meg az első befogót:"
       },
       "output_type": "stream",
       "value": "4"
      },
      "1": {
       "name": "input",
       "opts": {
        "password": false,
        "prompt": "add meg a második befogót:"
       },
       "output_type": "stream",
       "value": "6"
      }
     }
    },
    "colab": {
     "base_uri": "https://localhost:8080/",
     "height": 68
    },
    "colab_type": "code",
    "id": "fYBjjWdE-C89",
    "outputId": "556fa658-e3b6-4caa-f17b-0736757fd117"
   },
   "outputs": [
    {
     "name": "stdout",
     "output_type": "stream",
     "text": [
      "add meg az első befogót:2\n",
      "add meg a második befogót:3\n",
      "A befogók: 2 és 3\n"
     ]
    }
   ],
   "source": [
    "befogo1 = int(input(\"add meg az első befogót:\"))\n",
    "befogo2 = int(input(\"add meg a második befogót:\"))\n",
    "print(\"A befogók: {} és {}\".format(befogo1, befogo2))"
   ]
  },
  {
   "cell_type": "markdown",
   "metadata": {
    "colab_type": "text",
    "id": "w4u597-7-C9D"
   },
   "source": [
    "**A konkrét számítás itt következik:**"
   ]
  },
  {
   "cell_type": "code",
   "execution_count": 3,
   "metadata": {
    "colab": {
     "base_uri": "https://localhost:8080/",
     "height": 34
    },
    "colab_type": "code",
    "id": "uViA014D-C9L",
    "outputId": "030caac7-9987-4a16-9d78-691d41a896f2"
   },
   "outputs": [
    {
     "name": "stdout",
     "output_type": "stream",
     "text": [
      "Az átfogó: 3.61\n"
     ]
    }
   ],
   "source": [
    "import math\n",
    "atfogo = math.sqrt(befogo1 ** 2 + befogo2 ** 2)\n",
    "print(\"Az átfogó: {0:1.2f}\".format(atfogo))"
   ]
  },
  {
   "cell_type": "code",
   "execution_count": 4,
   "metadata": {},
   "outputs": [
    {
     "data": {
      "text/plain": [
       "float"
      ]
     },
     "execution_count": 4,
     "metadata": {},
     "output_type": "execute_result"
    }
   ],
   "source": [
    "type(atfogo)"
   ]
  },
  {
   "cell_type": "markdown",
   "metadata": {},
   "source": [
    "### Véletlenszámok"
   ]
  },
  {
   "cell_type": "code",
   "execution_count": 5,
   "metadata": {},
   "outputs": [
    {
     "name": "stdout",
     "output_type": "stream",
     "text": [
      "a=12 b=38\n"
     ]
    }
   ],
   "source": [
    "import random\n",
    "a = random.randint(0, 20)\n",
    "b = random.randint(0, 40)\n",
    "print(\"a={} b={}\".format(a, b))"
   ]
  },
  {
   "cell_type": "markdown",
   "metadata": {},
   "source": [
    "Ezen számok típusa és szorzata:"
   ]
  },
  {
   "cell_type": "code",
   "execution_count": 6,
   "metadata": {},
   "outputs": [
    {
     "name": "stdout",
     "output_type": "stream",
     "text": [
      "a típusa: <class 'int'>, b típusa: <class 'int'>\n",
      "12 * 38 = 456\n"
     ]
    }
   ],
   "source": [
    "print(\"a típusa: {}, b típusa: {}\".format(type(a), type(b)))\n",
    "print(\"{} * {} = {}\".format(a, b, a * b))"
   ]
  },
  {
   "cell_type": "markdown",
   "metadata": {},
   "source": [
    "Tömbökbe rakott véletlenszámok"
   ]
  },
  {
   "cell_type": "code",
   "execution_count": 7,
   "metadata": {},
   "outputs": [
    {
     "name": "stdout",
     "output_type": "stream",
     "text": [
      "[23, 38, 38, 40, 36, 19, 8, 15, 30, 32, 0, 35, 12, 2, 19, 7, 22, 19, 9, 28, 9, 27, 33, 12, 36]\n"
     ]
    }
   ],
   "source": [
    "rand_arr = []\n",
    "for i in range(25):\n",
    "    a = random.randint(0, 40)\n",
    "    rand_arr.append(a)\n",
    "print(rand_arr)"
   ]
  },
  {
   "cell_type": "code",
   "execution_count": 8,
   "metadata": {},
   "outputs": [
    {
     "data": {
      "text/plain": [
       "[<matplotlib.lines.Line2D at 0x7fd5e00de9b0>]"
      ]
     },
     "execution_count": 8,
     "metadata": {},
     "output_type": "execute_result"
    },
    {
     "data": {
      "image/png": "[encoded data removed]",
      "text/plain": [
       "<Figure size 432x288 with 1 Axes>"
      ]
     },
     "metadata": {
      "needs_background": "light"
     },
     "output_type": "display_data"
    }
   ],
   "source": [
    "%matplotlib inline\n",
    "from matplotlib.pyplot import plot\n",
    "plot(rand_arr)"
   ]
  },
  {
   "cell_type": "markdown",
   "metadata": {},
   "source": [
    "Egyenletek"
   ]
  },
  {
   "cell_type": "code",
   "execution_count": 9,
   "metadata": {},
   "outputs": [
    {
     "data": {
      "text/plain": [
       "[<matplotlib.lines.Line2D at 0x7fd5e007ce48>]"
      ]
     },
     "execution_count": 9,
     "metadata": {},
     "output_type": "execute_result"
    },
    {
     "data": {
      "image/png": "[encoded data removed]",
      "text/plain": [
       "<Figure size 432x288 with 1 Axes>"
      ]
     },
     "metadata": {
      "needs_background": "light"
     },
     "output_type": "display_data"
    }
   ],
   "source": [
    "x = []\n",
    "for i in range(10):\n",
    "    x.append(i**3)\n",
    "plot(x)"
   ]
  },
  {
   "cell_type": "code",
   "execution_count": 0,
   "metadata": {},
   "outputs": [],
   "source": []
  },
  {
   "cell_type": "code",
   "execution_count": 0,
   "metadata": {},
   "outputs": [],
   "source": []
  }
 ],
 "metadata": {
  "colab": {
   "include_colab_link": true,
   "name": "matek.ipynb",
   "provenance": [],
   "version": "0.3.2"
  },
  "kernelspec": {
   "display_name": "Python 3",
   "language": "python",
   "name": "python3"
  },
  "language_info": {
   "codemirror_mode": {
    "name": "ipython",
    "version": 3
   },
   "file_extension": ".py",
   "mimetype": "text/x-python",
   "name": "python",
   "nbconvert_exporter": "python",
   "pygments_lexer": "ipython3",
   "version": "3.6.8"
  }
 },
 "nbformat": 4,
 "nbformat_minor": 1
}
