{
 "cells": [
  {
   "cell_type": "markdown",
   "metadata": {
    "colab_type": "text",
    "id": "q5qRswFI-C8v"
   },
   "source": [
    "# Matematika gyakorlatok"
   ]
  },
  {
   "cell_type": "markdown",
   "metadata": {},
   "source": [
    "Gyakorló feladatok válogatott témákban."
   ]
  },
  {
   "cell_type": "code",
   "execution_count": 1,
   "metadata": {
    "colab": {
     "base_uri": "https://localhost:8080/",
     "height": 34
    },
    "colab_type": "code",
    "id": "S2so8KmY-C8x",
    "outputId": "544dd79a-4907-4b99-db85-0c803abf719e"
   },
   "outputs": [
    {
     "name": "stdout",
     "output_type": "stream",
     "text": [
      "Ez egy Üdvözlet az első matek oldalon!\n"
     ]
    }
   ],
   "source": [
    "print(\"Ez egy Üdvözlet az első matek oldalon!\")"
   ]
  },
  {
   "cell_type": "markdown",
   "metadata": {
    "colab_type": "text",
    "id": "-xejX77b-C87"
   },
   "source": [
    "### Pitagorasz-tétel \n",
    "\n",
    "_Derékszögű háromszögek számításaira_\n",
    "* megadjuk a befogókat\n",
    "* kiszámítjuk az átfogót a képlet alapján\n",
    "\n",
    "$ c = \\sqrt{a^2 + b^2} $"
   ]
  },
  {
   "cell_type": "code",
   "execution_count": 3,
   "metadata": {
    "cocalc": {
     "outputs": {
      "0": {
       "name": "input",
       "opts": {
        "password": false,
        "prompt": "add meg az első befogót:"
       },
       "output_type": "stream",
       "value": "4"
      },
      "1": {
       "name": "input",
       "opts": {
        "password": false,
        "prompt": "add meg a második befogót:"
       },
       "output_type": "stream",
       "value": "6"
      }
     }
    },
    "colab": {
     "base_uri": "https://localhost:8080/",
     "height": 68
    },
    "colab_type": "code",
    "id": "fYBjjWdE-C89",
    "outputId": "556fa658-e3b6-4caa-f17b-0736757fd117"
   },
   "outputs": [
    {
     "name": "stdin",
     "output_type": "stream",
     "text": [
      "add meg az első befogót: 1\n",
      "add meg a második befogót: 2\n"
     ]
    },
    {
     "name": "stdout",
     "output_type": "stream",
     "text": [
      "A befogók: 1 és 2\n"
     ]
    }
   ],
   "source": [
    "befogo1 = int(input(\"add meg az első befogót:\"))\n",
    "befogo2 = int(input(\"add meg a második befogót:\"))\n",
    "print(\"A befogók: {} és {}\".format(befogo1, befogo2))"
   ]
  },
  {
   "cell_type": "markdown",
   "metadata": {
    "colab_type": "text",
    "id": "w4u597-7-C9D"
   },
   "source": [
    "**A konkrét számítás itt következik:**"
   ]
  },
  {
   "cell_type": "code",
   "execution_count": 4,
   "metadata": {
    "colab": {
     "base_uri": "https://localhost:8080/",
     "height": 34
    },
    "colab_type": "code",
    "id": "uViA014D-C9L",
    "outputId": "030caac7-9987-4a16-9d78-691d41a896f2"
   },
   "outputs": [
    {
     "name": "stdout",
     "output_type": "stream",
     "text": [
      "Az átfogó: 2.24\n"
     ]
    }
   ],
   "source": [
    "import math\n",
    "atfogo = math.sqrt(befogo1 ** 2 + befogo2 ** 2)\n",
    "print(\"Az átfogó: {0:1.2f}\".format(atfogo))"
   ]
  },
  {
   "cell_type": "code",
   "execution_count": 5,
   "metadata": {},
   "outputs": [
    {
     "data": {
      "text/plain": [
       "float"
      ]
     },
     "execution_count": 5,
     "metadata": {},
     "output_type": "execute_result"
    }
   ],
   "source": [
    "type(atfogo)"
   ]
  },
  {
   "cell_type": "markdown",
   "metadata": {},
   "source": [
    "### Véletlenszámok"
   ]
  },
  {
   "cell_type": "code",
   "execution_count": 6,
   "metadata": {},
   "outputs": [
    {
     "name": "stdout",
     "output_type": "stream",
     "text": [
      "a=18 b=32\n"
     ]
    }
   ],
   "source": [
    "import random\n",
    "a = random.randint(0, 20)\n",
    "b = random.randint(0, 40)\n",
    "print(\"a={} b={}\".format(a, b))"
   ]
  },
  {
   "cell_type": "markdown",
   "metadata": {},
   "source": [
    "Ezen számok típusa és szorzata:"
   ]
  },
  {
   "cell_type": "code",
   "execution_count": 7,
   "metadata": {},
   "outputs": [
    {
     "name": "stdout",
     "output_type": "stream",
     "text": [
      "a típusa: <class 'int'>, b típusa: <class 'int'>\n",
      "18 * 32 = 576\n"
     ]
    }
   ],
   "source": [
    "print(\"a típusa: {}, b típusa: {}\".format(type(a), type(b)))\n",
    "print(\"{} * {} = {}\".format(a, b, a * b))"
   ]
  },
  {
   "cell_type": "markdown",
   "metadata": {},
   "source": [
    "Tömbökbe rakott véletlenszámok"
   ]
  },
  {
   "cell_type": "code",
   "execution_count": 8,
   "metadata": {},
   "outputs": [
    {
     "name": "stdout",
     "output_type": "stream",
     "text": [
      "[5, 13, 35, 17, 4, 2, 21, 15, 23, 1, 12, 11, 8, 22, 31, 2, 33, 32, 36, 31, 29, 5, 12, 12, 17]\n"
     ]
    }
   ],
   "source": [
    "rand_arr = []\n",
    "for i in range(25):\n",
    "    a = random.randint(0, 40)\n",
    "    rand_arr.append(a)\n",
    "print(rand_arr)"
   ]
  },
  {
   "cell_type": "code",
   "execution_count": 9,
   "metadata": {},
   "outputs": [
    {
     "data": {
      "text/plain": [
       "[<matplotlib.lines.Line2D at 0x7fe83b9d8630>]"
      ]
     },
     "execution_count": 9,
     "metadata": {},
     "output_type": "execute_result"
    },
    {
     "data": {
      "image/png": "[encoded data removed]",
      "text/plain": [
       "<Figure size 432x288 with 1 Axes>"
      ]
     },
     "metadata": {
      "needs_background": "light"
     },
     "output_type": "display_data"
    }
   ],
   "source": [
    "%matplotlib inline\n",
    "from matplotlib.pyplot import plot\n",
    "plot(rand_arr)"
   ]
  },
  {
   "cell_type": "markdown",
   "metadata": {},
   "source": [
    "Egyenletek"
   ]
  },
  {
   "cell_type": "code",
   "execution_count": 10,
   "metadata": {},
   "outputs": [
    {
     "data": {
      "text/plain": [
       "[<matplotlib.lines.Line2D at 0x7fe83b8f0b70>]"
      ]
     },
     "execution_count": 10,
     "metadata": {},
     "output_type": "execute_result"
    },
    {
     "data": {
      "image/png": "[encoded data removed]",
      "text/plain": [
       "<Figure size 432x288 with 1 Axes>"
      ]
     },
     "metadata": {
      "needs_background": "light"
     },
     "output_type": "display_data"
    }
   ],
   "source": [
    "x = []\n",
    "for i in range(10):\n",
    "    x.append(i**3)\n",
    "plot(x)"
   ]
  },
  {
   "cell_type": "code",
   "execution_count": null,
   "metadata": {},
   "outputs": [],
   "source": []
  },
  {
   "cell_type": "code",
   "execution_count": null,
   "metadata": {},
   "outputs": [],
   "source": []
  }
 ],
 "metadata": {
  "colab": {
   "include_colab_link": true,
   "name": "matek.ipynb",
   "provenance": [],
   "version": "0.3.2"
  },
  "kernelspec": {
   "display_name": "Python 3",
   "language": "python",
   "name": "python3"
  },
  "language_info": {
   "codemirror_mode": {
    "name": "ipython",
    "version": 3
   },
   "file_extension": ".py",
   "mimetype": "text/x-python",
   "name": "python",
   "nbconvert_exporter": "python",
   "pygments_lexer": "ipython3",
   "version": "3.6.7"
  }
 },
 "nbformat": 4,
 "nbformat_minor": 4
}
